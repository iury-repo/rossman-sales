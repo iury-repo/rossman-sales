{
 "cells": [
  {
   "cell_type": "code",
   "execution_count": 6,
   "id": "c3533732",
   "metadata": {},
   "outputs": [],
   "source": [
    "import os\n",
    "import pandas as pd\n",
    "from xgboost import XGBRegressor\n",
    "from flask import Flask, request, Response\n",
    "from api.preprocessing.Rossman import RossmanPreprocessing\n",
    "import math\n",
    "import numpy as np\n",
    "import json\n",
    "import requests"
   ]
  },
  {
   "cell_type": "markdown",
   "id": "b5c90d5c",
   "metadata": {},
   "source": [
    "# API handler"
   ]
  },
  {
   "cell_type": "code",
   "execution_count": null,
   "id": "afc87ea6",
   "metadata": {},
   "outputs": [],
   "source": [
    "# Loading model\n",
    "model = XGBRegressor()\n",
    "model.load_model('/home/iury_unix/ml_projects/rossman_sales_prediction/model/xgb_rossman.json') \n",
    "\n",
    "# Initializing API\n",
    "app = Flask(__name__)\n",
    "\n",
    "@app.route('/rossman/predict', methods = ['POST'])\n",
    "def rossman_predict():\n",
    "    test_json = request.get_json()\n",
    "\n",
    "    if test_json:\n",
    "        if isinstance(test_json, dict):                     # If there's only one example\n",
    "            test_raw = pd.DataFrame(test_json, index=[0])\n",
    "        else:\n",
    "            test_raw = pd.DataFrame(test_json, columns= test_json[0].keys())    # If there's multiple examples\n",
    "            \n",
    "        # Instantiate preprocessing class\n",
    "        pipeline = RossmanPreprocessing()\n",
    "\n",
    "        # Data Cleaning\n",
    "        df1 = pipeline.data_cleaning(test_raw)\n",
    "\n",
    "        # Feature Engineering\n",
    "        df2 = pipeline.feature_engineering(df1)\n",
    "\n",
    "        # Data Preparation\n",
    "        df3 = pipeline.data_preparation(df2)\n",
    "\n",
    "        # Prediction\n",
    "        df_response = pipeline.get_prediction(model, test_raw, df3)\n",
    "\n",
    "        return df_response\n",
    "\n",
    "    else:\n",
    "        return Response('{}', status='200', mimetype='/application/json')\n",
    "    \n",
    "if __name__ == '__main__':\n",
    "    app.run('0.0.0.0')"
   ]
  },
  {
   "cell_type": "markdown",
   "id": "03ccf853",
   "metadata": {},
   "source": [
    "# API Tester"
   ]
  },
  {
   "cell_type": "code",
   "execution_count": 12,
   "id": "d3d3887c",
   "metadata": {},
   "outputs": [
    {
     "name": "stdout",
     "output_type": "stream",
     "text": [
      "Status Code: 200\n"
     ]
    }
   ],
   "source": [
    "df_load = pd.read_csv('/home/iury_unix/ml_projects/rossman_sales_prediction/data/raw/test.csv')\n",
    "df_store = pd.read_csv('/home/iury_unix/ml_projects/rossman_sales_prediction/data/raw/store.csv')\n",
    "\n",
    "# Merge test and store\n",
    "df_test = pd.merge(df_load, df_store, how='left', on='Store')\n",
    "\n",
    "# Choosing one specific store to test\n",
    "df_test = df_test[df_test['Store'].isin([24, 22, 30, 12])]\n",
    "\n",
    "# Removing unused columns\n",
    "df_test = df_test[df_test['Open'] != 0]\n",
    "df_test = df_test[~df_test['Open'].isnull()]\n",
    "df_test = df_test.drop('Id', axis=1)\n",
    "\n",
    "# Converting to json\n",
    "data = json.dumps(df_test.to_dict(orient='records'))\n",
    "\n",
    "# API call\n",
    "url = 'http://0.0.0.0:5000/rossman/predict'\n",
    "header = {'Content-type': 'application/json'}\n",
    "data = data\n",
    "\n",
    "r = requests.post(url=url, data=data, headers=header)\n",
    "print(f'Status Code: {r.status_code}')"
   ]
  },
  {
   "cell_type": "code",
   "execution_count": 13,
   "id": "80992208",
   "metadata": {},
   "outputs": [],
   "source": [
    "d1 = pd.DataFrame(r.json(), columns=r.json()[0].keys())"
   ]
  },
  {
   "cell_type": "code",
   "execution_count": 14,
   "id": "5f1ef193",
   "metadata": {},
   "outputs": [
    {
     "name": "stdout",
     "output_type": "stream",
     "text": [
      "Store Number 12 will sell R$ 244,327.48 in the next 6 weeks.\n",
      "Store Number 22 will sell R$ 233,661.64 in the next 6 weeks.\n",
      "Store Number 24 will sell R$ 348,137.94 in the next 6 weeks.\n",
      "Store Number 30 will sell R$ 195,846.39 in the next 6 weeks.\n"
     ]
    }
   ],
   "source": [
    "d2 = d1[['store', 'predictions']].groupby('store').sum().reset_index()\n",
    "\n",
    "for i in range(len(d2)):\n",
    "    print('Store Number {} will sell R$ {:,.2f} in the next 6 weeks.'.format(d2.loc[i,'store'], \n",
    "                                                                            d2.loc[i,'predictions']))\n"
   ]
  },
  {
   "cell_type": "code",
   "execution_count": null,
   "id": "b076e2a6",
   "metadata": {},
   "outputs": [],
   "source": []
  }
 ],
 "metadata": {
  "kernelspec": {
   "display_name": "Python 3 (ipykernel)",
   "language": "python",
   "name": "python3"
  },
  "language_info": {
   "codemirror_mode": {
    "name": "ipython",
    "version": 3
   },
   "file_extension": ".py",
   "mimetype": "text/x-python",
   "name": "python",
   "nbconvert_exporter": "python",
   "pygments_lexer": "ipython3",
   "version": "3.8.0"
  }
 },
 "nbformat": 4,
 "nbformat_minor": 5
}
