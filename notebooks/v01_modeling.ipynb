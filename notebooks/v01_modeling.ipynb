{
 "cells": [
  {
   "cell_type": "markdown",
   "id": "e8cb34bb",
   "metadata": {},
   "source": [
    "# 1.0 Imports"
   ]
  },
  {
   "cell_type": "code",
   "execution_count": null,
   "id": "821ffe49",
   "metadata": {},
   "outputs": [],
   "source": [
    "import os\n",
    "import warnings\n",
    "import pandas as pd\n",
    "import math\n",
    "import numpy as np\n",
    "import datetime\n",
    "import inflection\n",
    "import seaborn as sns\n",
    "import matplotlib.pyplot as plt\n",
    "from scipy import stats\n",
    "from tabulate import tabulate\n",
    "from boruta import BorutaPy\n",
    "from pathlib import Path\n",
    "\n",
    "from IPython.core.display import HTML\n",
    "from IPython.display import Image\n",
    "\n",
    "from xgboost import XGBRegressor\n",
    "from sklearn.preprocessing import RobustScaler, MinMaxScaler, LabelEncoder\n",
    "from sklearn.ensemble import RandomForestRegressor\n",
    "from sklearn.metrics import mean_absolute_error, mean_squared_error\n",
    "from sklearn.linear_model import LinearRegression, Lasso\n",
    "from sklearn.model_selection import RandomizedSearchCV, train_test_split, BaseCrossValidator\n",
    "from skopt import BayesSearchCV, space "
   ]
  },
  {
   "cell_type": "markdown",
   "id": "fcd71413",
   "metadata": {},
   "source": [
    "## 0.1. Helper functions"
   ]
  },
  {
   "cell_type": "code",
   "execution_count": null,
   "id": "d6e0016b",
   "metadata": {},
   "outputs": [],
   "source": [
    "# Define function to calculate cramer v \n",
    "def cramerv(x,y):\n",
    "    cm = pd.crosstab(x,y).values\n",
    "    n = cm.sum()\n",
    "    r, k = cm.shape\n",
    "\n",
    "    chi2 = stats.chi2_contingency(cm)[0]\n",
    "    chis2corr = max(0, chi2 - (k-1)*(r-1)/(n-1))\n",
    "    kcorr = k - (k-1)**2/(n-1)\n",
    "    rcorr = r - (r-1)**2/(n-1)\n",
    "    \n",
    "    return np.sqrt((chis2corr/n) / min(kcorr-1, rcorr-1))\n",
    "\n",
    "def mean_absolute_percentage_error(y, yhat):\n",
    "    return  np.mean( np.abs( (y - yhat) / y ) )\n",
    "\n",
    "def mean_percentage_error(y, yhat):\n",
    "    return  np.mean((y - yhat) / y)\n",
    "\n",
    "\n",
    "def ml_error (model_name: str, y: pd.Series, yhat: pd.Series) -> pd.DataFrame:\n",
    "    mae = mean_absolute_error(y, yhat)\n",
    "    mape = mean_absolute_percentage_error(y, yhat)\n",
    "    rmse = np.sqrt(mean_absolute_error(y, yhat))\n",
    "    \n",
    "    return pd.DataFrame({'Model Name': model_name,\n",
    "                         'MAE': mae,\n",
    "                         'MAPE': mape,\n",
    "                         'RMSE': rmse}, index=[0])    \n",
    "\n",
    "def cross_val(model, kfold, x_training):\n",
    "    mae_list = []\n",
    "    mape_list = []\n",
    "    rmse_list = []\n",
    "\n",
    "    print(f'Model in Trainning: {model.__class__.__name__}')\n",
    "\n",
    "    # Creating the cross validation folds\n",
    "    for k in reversed(range(1, kfold+1)):\n",
    "        print(f'Kfold: {k}')\n",
    "\n",
    "        start_lim = x_training['date'].max() - datetime.timedelta(k*6*7)      # We decide early that the window to split the data in tranning and test will use units of 6 weeks. \n",
    "        end_lim = x_training['date'].max() - datetime.timedelta((k-1)*6*7)\n",
    "\n",
    "        # Filtering dataframe\n",
    "        trainning = x_training[x_training['date'] < start_lim]\n",
    "        validation = x_training[(x_training['date'] >= start_lim) & (x_training['date'] <= end_lim)] \n",
    "\n",
    "        # Cross validation datasets (just removing the date and sales columns again, since this columns will not be used on tranning)\n",
    "        xtrainning = trainning.drop(columns=['date', 'sales'], axis = 1)\n",
    "        ytrainning = trainning['sales']\n",
    "\n",
    "        xvalidation = validation.drop(columns=['date', 'sales'], axis = 1)\n",
    "        yvalidation = validation['sales']\n",
    "\n",
    "        # Model tranning \n",
    "        m = model.fit(xtrainning, ytrainning)\n",
    "        yhat = m.predict(xvalidation)\n",
    "\n",
    "        # Performance\n",
    "        results = ml_error(model.__class__.__name__, np.expm1(yvalidation), np.expm1(yhat))\n",
    "        mae_list.append(results['MAE'])\n",
    "        mape_list.append(results['MAPE'])\n",
    "        rmse_list.append(results['RMSE'])\n",
    "\n",
    "    print('---------------------------------------------')\n",
    "\n",
    "    return pd.DataFrame({'Model Name': model.__class__.__name__ ,\n",
    "                         'MAE_CV': np.round(np.mean(mae_list), 2).astype(str) + '+/-' + np.round(np.std(mae_list), 2).astype(str),\n",
    "                         'MAPE_CV': np.round(np.mean(mape_list), 2).astype(str) + '+/-' + np.round(np.std(mape_list), 2).astype(str),\n",
    "                         'RMSE_CV': np.round(np.mean(rmse_list), 2).astype(str) + '+/-' + np.round(np.std(rmse_list), 2).astype(str),\n",
    "                         }, index = [0])\n",
    "\n",
    "class TimeSeriesWindowSplit(BaseCrossValidator):\n",
    "    \"\"\"\n",
    "    CV temporal com janelas fixas retroativas (ex.: 6 semanas).\n",
    "    Use .fit(X, y, groups=dates) — 'dates' é um vetor de datas (len == len(X) == len(y)).\n",
    "    \"\"\"\n",
    "    def __init__(self, n_splits=5, window_weeks=6, drop_empty=True):\n",
    "        self.n_splits = n_splits\n",
    "        self.window_weeks = window_weeks\n",
    "        self.drop_empty = drop_empty\n",
    "\n",
    "    def get_n_splits(self, X=None, y=None, groups=None):\n",
    "        return self.n_splits\n",
    "\n",
    "    def split(self, X, y=None, groups=None):\n",
    "        if groups is None:\n",
    "            raise ValueError(\"Passe as datas via 'groups' em .fit(X, y, groups=dates).\")\n",
    "\n",
    "        # Converte para Series de datetime e cria índices POSICIONAIS 0..n-1\n",
    "        dates = pd.to_datetime(pd.Series(groups)).reset_index(drop=True)\n",
    "        n = len(dates)\n",
    "        idx = np.arange(n)\n",
    "\n",
    "        end_date = dates.max()\n",
    "        window = datetime.timedelta(weeks=self.window_weeks)\n",
    "\n",
    "        produced = 0\n",
    "        # Gera n_splits janelas de trás pra frente (cada uma com 'window_weeks')\n",
    "        for k in range(self.n_splits, 0, -1):\n",
    "            start = end_date - k * window\n",
    "            end   = end_date - (k - 1) * window\n",
    "\n",
    "            mask_val   = (dates >= start) & (dates <= end)\n",
    "            mask_train = (dates < start)\n",
    "\n",
    "            train_idx = idx[mask_train.to_numpy()]\n",
    "            val_idx   = idx[mask_val.to_numpy()]\n",
    "\n",
    "            if (len(train_idx) == 0 or len(val_idx) == 0):\n",
    "                print(f\"⚠️ Split {k} descartado (train={len(train_idx)}, test={len(val_idx)})\")\n",
    "                if self.drop_empty:\n",
    "                    continue\n",
    "                else:\n",
    "                    raise ValueError(\n",
    "                        f\"Fold vazio em k={k}: train={len(train_idx)}, val={len(val_idx)} \"\n",
    "                        f\"(janela {start.date()}..{end.date()}). Ajuste n_splits/window.\"\n",
    "                    )\n",
    "\n",
    "            produced += 1\n",
    "            yield train_idx, val_idx\n",
    "\n",
    "        if produced == 0:\n",
    "            raise ValueError(\"Nenhum fold válido foi produzido — reduza n_splits ou aumente window_weeks.\")\n",
    "\n",
    "# --- Classe wrapper para injetar early stopping ---\n",
    "class XGBWithEarlyStopping(XGBRegressor):\n",
    "    def fit(self, X, y, **kwargs):\n",
    "        # Se o CV passar um \"eval_set\", usa; caso contrário, cria usando o último 20% dos dados\n",
    "        if \"eval_set\" not in kwargs:\n",
    "            n = int(0.8 * X.shape[0])\n",
    "            X_train, X_val = X[:n], X[n:]\n",
    "            y_train, y_val = y[:n], y[n:]\n",
    "            kwargs[\"eval_set\"] = [(X_val, y_val)]\n",
    "        # sempre força early stopping\n",
    "        kwargs[\"early_stopping_rounds\"] = kwargs.get(\"early_stopping_rounds\", 100)\n",
    "        kwargs[\"verbose\"] = False\n",
    "        return super().fit(X, y, **kwargs)            \n",
    "\n",
    "def jupyter_settings():\n",
    "    %matplotlib inline\n",
    "    # %pylab inline\n",
    "    plt.style.use( 'bmh' )\n",
    "    plt.rcParams['figure.figsize'] = [25, 12]\n",
    "    plt.rcParams['font.size'] = 16\n",
    "    display( HTML( '<style>.container { width:100% !important; }</style>') )\n",
    "    pd.options.display.max_columns = None\n",
    "    pd.options.display.max_rows = None\n",
    "    pd.set_option( 'display.expand_frame_repr', False )\n",
    "    \n",
    "# Histogram default params\n",
    "histogram_args = {'stat': 'density',\n",
    "                    'kde': True,\n",
    "                    'kde_kws': dict(cut=3),\n",
    "                    'bins': 50\n",
    "                    }"
   ]
  },
  {
   "cell_type": "markdown",
   "id": "feb248b4",
   "metadata": {},
   "source": [
    "### 0.1.1 Settings"
   ]
  },
  {
   "cell_type": "code",
   "execution_count": null,
   "id": "4309d22d",
   "metadata": {},
   "outputs": [
    {
     "data": {
      "text/html": [
       "<style>.container { width:100% !important; }</style>"
      ],
      "text/plain": [
       "<IPython.core.display.HTML object>"
      ]
     },
     "metadata": {},
     "output_type": "display_data"
    }
   ],
   "source": [
    "jupyter_settings()\n",
    "\n",
    "# Ignoring the Future Warnings of XGBoost so they dont get printed in the loop \n",
    "warnings.filterwarnings(\n",
    "    \"ignore\",\n",
    "    message=r\".*Series\\.base is deprecated.*\",\n",
    "    category=FutureWarning\n",
    ")"
   ]
  },
  {
   "cell_type": "markdown",
   "id": "989755d6",
   "metadata": {},
   "source": [
    "## 0.2. Loading data"
   ]
  },
  {
   "cell_type": "code",
   "execution_count": null,
   "id": "bff66d5d",
   "metadata": {},
   "outputs": [],
   "source": [
    "root = Path().resolve()\n",
    "data_dir = root / 'data'\n",
    "\n",
    "df4 = pd.read_csv(data_dir / 'processed' /'df_cleaned.csv', low_memory=False)  # loading df4 from EDA step"
   ]
  },
  {
   "cell_type": "markdown",
   "id": "29976555",
   "metadata": {},
   "source": [
    "# 5.0 Data Preparation"
   ]
  },
  {
   "cell_type": "code",
   "execution_count": null,
   "id": "2afdd874",
   "metadata": {},
   "outputs": [],
   "source": [
    "df5 = df4.copy() # A copy of df4 to another variable just for a single comparison of the sales distribution. Can be ignored."
   ]
  },
  {
   "cell_type": "markdown",
   "id": "69541596",
   "metadata": {},
   "source": [
    "## 5.1 Normalization"
   ]
  },
  {
   "cell_type": "markdown",
   "id": "b653d91f",
   "metadata": {},
   "source": [
    "Looking into our numerical variables histograms we saw that none of them had a normal distribution, so we can skip this step, as applying normalization on data that do not origginally has some degree of normal distribution may impact the model performance."
   ]
  },
  {
   "cell_type": "markdown",
   "id": "1cf7f1f2",
   "metadata": {},
   "source": [
    "## 5.2 Rescaling "
   ]
  },
  {
   "cell_type": "code",
   "execution_count": null,
   "id": "bd84a261",
   "metadata": {},
   "outputs": [],
   "source": [
    "rs = RobustScaler()\n",
    "mms = MinMaxScaler()\n",
    "\n",
    "# competition_distance\n",
    "df5['competition_distance'] = rs.fit_transform(df5[['competition_distance']].values)\n",
    "\n",
    "# competition_time_month \n",
    "df5['competition_time_month'] = rs.fit_transform(df5[['competition_time_month']].values)\n",
    "\n",
    "# promo_time_week\n",
    "df5['promo_time_week'] = mms.fit_transform(df5[['promo_time_week']].values)\n",
    "\n",
    "# year\n",
    "df5['year'] = mms.fit_transform(df5[['year']].values)"
   ]
  },
  {
   "cell_type": "markdown",
   "id": "ce385147",
   "metadata": {},
   "source": [
    "## 5.3 Transformation"
   ]
  },
  {
   "cell_type": "markdown",
   "id": "173ae927",
   "metadata": {},
   "source": [
    "### 5.3.1 Encoding"
   ]
  },
  {
   "cell_type": "code",
   "execution_count": null,
   "id": "8971af9a",
   "metadata": {},
   "outputs": [],
   "source": [
    "# state_holiday - One hot encoding\n",
    "df5 = pd.get_dummies(df5, prefix= ['state_holiday'], columns= ['state_holiday'])\n",
    "\n",
    "# store_type - Label Encoding\n",
    "le = LabelEncoder()\n",
    "\n",
    "df5['store_type'] = le.fit_transform(df5['store_type'])\n",
    "\n",
    "# assortment - Ordinal enconding (manual)\n",
    "assortment_dict = {'basic': 1,\n",
    "                   'extra': 2,\n",
    "                   'extended': 3}\n",
    "\n",
    "df5['assortment'] = df5['assortment'].map(assortment_dict)"
   ]
  },
  {
   "cell_type": "markdown",
   "id": "e16120ed",
   "metadata": {},
   "source": [
    "### 5.3.2 Response variable transformation"
   ]
  },
  {
   "cell_type": "code",
   "execution_count": null,
   "id": "7d9d85e6",
   "metadata": {},
   "outputs": [],
   "source": [
    "# Changing the actual distribution of the target variable to a more normal distribution using log transf.\n",
    "df5['sales'] = np.log1p(df5['sales'])"
   ]
  },
  {
   "cell_type": "code",
   "execution_count": null,
   "id": "dd9206e2",
   "metadata": {},
   "outputs": [
    {
     "data": {
      "image/png": "[encoded data removed]",
      "text/plain": [
       "<Figure size 1100x500 with 2 Axes>"
      ]
     },
     "metadata": {},
     "output_type": "display_data"
    }
   ],
   "source": [
    "plt.figure(figsize=(11,5))\n",
    "\n",
    "plt.subplot(1,2,1)\n",
    "plt.title('Before', fontsize= 18)\n",
    "sns.histplot(df4['sales'], **histogram_args)\n",
    "\n",
    "plt.subplot(1,2,2)\n",
    "plt.title('After', fontsize= 18)\n",
    "sns.histplot(df5['sales'], **histogram_args)\n",
    "\n",
    "plt.tight_layout()"
   ]
  },
  {
   "cell_type": "markdown",
   "id": "de948253",
   "metadata": {},
   "source": [
    "### 5.3.3 Nature transformation"
   ]
  },
  {
   "cell_type": "code",
   "execution_count": null,
   "id": "078777df",
   "metadata": {},
   "outputs": [],
   "source": [
    "# month\n",
    "df5['month_sin'] = df5['month'].apply(lambda x: np.sin(x * (2*np.pi / 12) ))\n",
    "df5['month_cos'] = df5['month'].apply(lambda x: np.cos(x * (2*np.pi / 12) ))\n",
    "\n",
    "# day \n",
    "df5['day_sin'] = df5['day'].apply(lambda x: np.sin(x * (2*np.pi / 30) ))\n",
    "df5['day_cos'] = df5['day'].apply(lambda x: np.cos(x * (2*np.pi / 30) ))\n",
    "\n",
    "# week_of_year\n",
    "df5['week_of_year_sin'] = df5['week_of_year'].apply(lambda x: np.sin(x * (2*np.pi / 52) ))\n",
    "df5['week_of_year_cos'] = df5['week_of_year'].apply(lambda x: np.cos(x * (2*np.pi / 52) ))\n",
    "\n",
    "# day_of_week\n",
    "df5['day_of_week_sin'] = df5['day_of_week'].apply(lambda x: np.sin(x * (2*np.pi / 7) ))\n",
    "df5['day_of_week_cos'] = df5['day_of_week'].apply(lambda x: np.cos(x * (2*np.pi / 7) ))"
   ]
  },
  {
   "cell_type": "markdown",
   "id": "963a6b2d",
   "metadata": {},
   "source": [
    "# 6.0 Feature Selection"
   ]
  },
  {
   "cell_type": "code",
   "execution_count": null,
   "id": "eb9891e4",
   "metadata": {},
   "outputs": [],
   "source": [
    "df6 = df5.copy() # Just creating a copy of df5 to another variable to keep it safe and trackble. Can be ignored."
   ]
  },
  {
   "cell_type": "code",
   "execution_count": null,
   "id": "3f0f6a6e",
   "metadata": {},
   "outputs": [],
   "source": [
    "# Dropping redundant columns that result from feature engineering \n",
    "cols_drop = ['day_of_week', 'week_of_year', 'year_week', 'day', 'month', 'promo_since', 'competition_since']\n",
    "df6 = df6.drop(cols_drop, axis=1)"
   ]
  },
  {
   "cell_type": "markdown",
   "id": "137cf5d8",
   "metadata": {},
   "source": [
    "## 6.1 Spliting dataframe into Train-Test"
   ]
  },
  {
   "cell_type": "markdown",
   "id": "026af8ba",
   "metadata": {},
   "source": [
    " In this case, the split will be such that the training dataset includes all rows from the first recorded date to six weeks prior to the last recorded date. The test split will consist of the remaining data up to the actual last date. "
   ]
  },
  {
   "cell_type": "code",
   "execution_count": null,
   "id": "fa30895d",
   "metadata": {},
   "outputs": [],
   "source": [
    "# Versão do curso, remover posteriormente\n",
    "#df6[['store', 'date']].groupby('store').max().reset_index()['date'][0] - datetime.timedelta()"
   ]
  },
  {
   "cell_type": "code",
   "execution_count": null,
   "id": "c1285874",
   "metadata": {},
   "outputs": [],
   "source": [
    "df6['date'].max() - datetime.timedelta(weeks = 6)\n",
    "\n",
    "# Training dataset\n",
    "X_train = df6[df6['date'] < '2015-06-19']\n",
    "y_train = X_train['sales']\n",
    "\n",
    "# Test dataset\n",
    "X_test = df6[df6['date'] >= '2015-06-19']\n",
    "y_test = X_test['sales']\n"
   ]
  },
  {
   "cell_type": "code",
   "execution_count": null,
   "id": "c0bacf2e",
   "metadata": {},
   "outputs": [
    {
     "name": "stdout",
     "output_type": "stream",
     "text": [
      "Min Train date 2013-01-01 00:00:00\n",
      "Max Train date 2015-06-18 00:00:00\n",
      "\n",
      "Min Test date 2015-06-19 00:00:00\n",
      "Max Test date 2015-07-31 00:00:00\n"
     ]
    }
   ],
   "source": [
    "print('Min Train date {}'.format(X_train['date'].min()))\n",
    "print('Max Train date {}'.format(X_train['date'].max()))\n",
    "\n",
    "print('\\nMin Test date {}'.format(X_test['date'].min()))\n",
    "print('Max Test date {}'.format(X_test['date'].max()))"
   ]
  },
  {
   "cell_type": "markdown",
   "id": "a046179f",
   "metadata": {},
   "source": [
    "## 6.2 Using Boruta algorithm as feature selector"
   ]
  },
  {
   "cell_type": "code",
   "execution_count": null,
   "id": "f62244d8",
   "metadata": {},
   "outputs": [
    {
     "data": {
      "text/html": [
       "<div>\n",
       "<style scoped>\n",
       "    .dataframe tbody tr th:only-of-type {\n",
       "        vertical-align: middle;\n",
       "    }\n",
       "\n",
       "    .dataframe tbody tr th {\n",
       "        vertical-align: top;\n",
       "    }\n",
       "\n",
       "    .dataframe thead th {\n",
       "        text-align: right;\n",
       "    }\n",
       "</style>\n",
       "<table border=\"1\" class=\"dataframe\">\n",
       "  <thead>\n",
       "    <tr style=\"text-align: right;\">\n",
       "      <th></th>\n",
       "      <th>store</th>\n",
       "      <th>date</th>\n",
       "      <th>sales</th>\n",
       "      <th>promo</th>\n",
       "      <th>school_holiday</th>\n",
       "      <th>store_type</th>\n",
       "      <th>assortment</th>\n",
       "      <th>competition_distance</th>\n",
       "      <th>competition_open_since_month</th>\n",
       "      <th>competition_open_since_year</th>\n",
       "      <th>promo2</th>\n",
       "      <th>promo2_since_week</th>\n",
       "      <th>promo2_since_year</th>\n",
       "      <th>is_promo</th>\n",
       "      <th>year</th>\n",
       "      <th>competition_time_month</th>\n",
       "      <th>promo_time_week</th>\n",
       "      <th>state_holiday_christmas</th>\n",
       "      <th>state_holiday_easter_holiday</th>\n",
       "      <th>state_holiday_public_holiday</th>\n",
       "      <th>state_holiday_regular_day</th>\n",
       "      <th>month_sin</th>\n",
       "      <th>month_cos</th>\n",
       "      <th>day_sin</th>\n",
       "      <th>day_cos</th>\n",
       "      <th>week_of_year_sin</th>\n",
       "      <th>week_of_year_cos</th>\n",
       "      <th>day_of_week_sin</th>\n",
       "      <th>day_of_week_cos</th>\n",
       "    </tr>\n",
       "  </thead>\n",
       "  <tbody>\n",
       "    <tr>\n",
       "      <th>47945</th>\n",
       "      <td>1</td>\n",
       "      <td>2015-06-18</td>\n",
       "      <td>8.443762</td>\n",
       "      <td>1</td>\n",
       "      <td>0</td>\n",
       "      <td>2</td>\n",
       "      <td>1</td>\n",
       "      <td>-0.170968</td>\n",
       "      <td>9</td>\n",
       "      <td>2008</td>\n",
       "      <td>0</td>\n",
       "      <td>25</td>\n",
       "      <td>2015</td>\n",
       "      <td>0</td>\n",
       "      <td>1.0</td>\n",
       "      <td>0.891892</td>\n",
       "      <td>0.287016</td>\n",
       "      <td>False</td>\n",
       "      <td>False</td>\n",
       "      <td>False</td>\n",
       "      <td>True</td>\n",
       "      <td>1.224647e-16</td>\n",
       "      <td>-1.0</td>\n",
       "      <td>-0.587785</td>\n",
       "      <td>-0.809017</td>\n",
       "      <td>0.120537</td>\n",
       "      <td>-0.992709</td>\n",
       "      <td>-0.433884</td>\n",
       "      <td>-0.900969</td>\n",
       "    </tr>\n",
       "    <tr>\n",
       "      <th>47946</th>\n",
       "      <td>2</td>\n",
       "      <td>2015-06-18</td>\n",
       "      <td>8.547722</td>\n",
       "      <td>1</td>\n",
       "      <td>0</td>\n",
       "      <td>0</td>\n",
       "      <td>1</td>\n",
       "      <td>-0.283871</td>\n",
       "      <td>11</td>\n",
       "      <td>2007</td>\n",
       "      <td>1</td>\n",
       "      <td>13</td>\n",
       "      <td>2010</td>\n",
       "      <td>0</td>\n",
       "      <td>1.0</td>\n",
       "      <td>1.027027</td>\n",
       "      <td>0.908884</td>\n",
       "      <td>False</td>\n",
       "      <td>False</td>\n",
       "      <td>False</td>\n",
       "      <td>True</td>\n",
       "      <td>1.224647e-16</td>\n",
       "      <td>-1.0</td>\n",
       "      <td>-0.587785</td>\n",
       "      <td>-0.809017</td>\n",
       "      <td>0.120537</td>\n",
       "      <td>-0.992709</td>\n",
       "      <td>-0.433884</td>\n",
       "      <td>-0.900969</td>\n",
       "    </tr>\n",
       "    <tr>\n",
       "      <th>47947</th>\n",
       "      <td>3</td>\n",
       "      <td>2015-06-18</td>\n",
       "      <td>8.927712</td>\n",
       "      <td>1</td>\n",
       "      <td>0</td>\n",
       "      <td>0</td>\n",
       "      <td>1</td>\n",
       "      <td>1.903226</td>\n",
       "      <td>12</td>\n",
       "      <td>2006</td>\n",
       "      <td>1</td>\n",
       "      <td>14</td>\n",
       "      <td>2011</td>\n",
       "      <td>0</td>\n",
       "      <td>1.0</td>\n",
       "      <td>1.189189</td>\n",
       "      <td>0.788155</td>\n",
       "      <td>False</td>\n",
       "      <td>False</td>\n",
       "      <td>False</td>\n",
       "      <td>True</td>\n",
       "      <td>1.224647e-16</td>\n",
       "      <td>-1.0</td>\n",
       "      <td>-0.587785</td>\n",
       "      <td>-0.809017</td>\n",
       "      <td>0.120537</td>\n",
       "      <td>-0.992709</td>\n",
       "      <td>-0.433884</td>\n",
       "      <td>-0.900969</td>\n",
       "    </tr>\n",
       "    <tr>\n",
       "      <th>47948</th>\n",
       "      <td>4</td>\n",
       "      <td>2015-06-18</td>\n",
       "      <td>9.091669</td>\n",
       "      <td>1</td>\n",
       "      <td>0</td>\n",
       "      <td>2</td>\n",
       "      <td>3</td>\n",
       "      <td>-0.275806</td>\n",
       "      <td>9</td>\n",
       "      <td>2009</td>\n",
       "      <td>0</td>\n",
       "      <td>25</td>\n",
       "      <td>2015</td>\n",
       "      <td>0</td>\n",
       "      <td>1.0</td>\n",
       "      <td>0.729730</td>\n",
       "      <td>0.287016</td>\n",
       "      <td>False</td>\n",
       "      <td>False</td>\n",
       "      <td>False</td>\n",
       "      <td>True</td>\n",
       "      <td>1.224647e-16</td>\n",
       "      <td>-1.0</td>\n",
       "      <td>-0.587785</td>\n",
       "      <td>-0.809017</td>\n",
       "      <td>0.120537</td>\n",
       "      <td>-0.992709</td>\n",
       "      <td>-0.433884</td>\n",
       "      <td>-0.900969</td>\n",
       "    </tr>\n",
       "    <tr>\n",
       "      <th>47949</th>\n",
       "      <td>5</td>\n",
       "      <td>2015-06-18</td>\n",
       "      <td>8.502080</td>\n",
       "      <td>1</td>\n",
       "      <td>0</td>\n",
       "      <td>0</td>\n",
       "      <td>1</td>\n",
       "      <td>4.448387</td>\n",
       "      <td>4</td>\n",
       "      <td>2015</td>\n",
       "      <td>0</td>\n",
       "      <td>25</td>\n",
       "      <td>2015</td>\n",
       "      <td>0</td>\n",
       "      <td>1.0</td>\n",
       "      <td>-0.189189</td>\n",
       "      <td>0.287016</td>\n",
       "      <td>False</td>\n",
       "      <td>False</td>\n",
       "      <td>False</td>\n",
       "      <td>True</td>\n",
       "      <td>1.224647e-16</td>\n",
       "      <td>-1.0</td>\n",
       "      <td>-0.587785</td>\n",
       "      <td>-0.809017</td>\n",
       "      <td>0.120537</td>\n",
       "      <td>-0.992709</td>\n",
       "      <td>-0.433884</td>\n",
       "      <td>-0.900969</td>\n",
       "    </tr>\n",
       "  </tbody>\n",
       "</table>\n",
       "</div>"
      ],
      "text/plain": [
       "       store       date     sales  promo  school_holiday  store_type  assortment  competition_distance  competition_open_since_month  competition_open_since_year  promo2  promo2_since_week  promo2_since_year  is_promo  year  competition_time_month  promo_time_week  state_holiday_christmas  state_holiday_easter_holiday  state_holiday_public_holiday  state_holiday_regular_day     month_sin  month_cos   day_sin   day_cos  week_of_year_sin  week_of_year_cos  day_of_week_sin  day_of_week_cos\n",
       "47945      1 2015-06-18  8.443762      1               0           2           1             -0.170968                             9                         2008       0                 25               2015         0   1.0                0.891892         0.287016                    False                         False                         False                       True  1.224647e-16       -1.0 -0.587785 -0.809017          0.120537         -0.992709        -0.433884        -0.900969\n",
       "47946      2 2015-06-18  8.547722      1               0           0           1             -0.283871                            11                         2007       1                 13               2010         0   1.0                1.027027         0.908884                    False                         False                         False                       True  1.224647e-16       -1.0 -0.587785 -0.809017          0.120537         -0.992709        -0.433884        -0.900969\n",
       "47947      3 2015-06-18  8.927712      1               0           0           1              1.903226                            12                         2006       1                 14               2011         0   1.0                1.189189         0.788155                    False                         False                         False                       True  1.224647e-16       -1.0 -0.587785 -0.809017          0.120537         -0.992709        -0.433884        -0.900969\n",
       "47948      4 2015-06-18  9.091669      1               0           2           3             -0.275806                             9                         2009       0                 25               2015         0   1.0                0.729730         0.287016                    False                         False                         False                       True  1.224647e-16       -1.0 -0.587785 -0.809017          0.120537         -0.992709        -0.433884        -0.900969\n",
       "47949      5 2015-06-18  8.502080      1               0           0           1              4.448387                             4                         2015       0                 25               2015         0   1.0               -0.189189         0.287016                    False                         False                         False                       True  1.224647e-16       -1.0 -0.587785 -0.809017          0.120537         -0.992709        -0.433884        -0.900969"
      ]
     },
     "metadata": {},
     "output_type": "display_data"
    }
   ],
   "source": [
    "X_train.head()"
   ]
  },
  {
   "cell_type": "code",
   "execution_count": null,
   "id": "2fdebac4",
   "metadata": {},
   "outputs": [],
   "source": [
    "# Adjusting dataframes for boruta\n",
    "X_train_n = X_train.drop(['date', 'sales'], axis=1).values\n",
    "y_train_n = y_train.values.ravel()\n",
    "\n",
    "# Define Random Forest for boruta\n",
    "#rf = RandomForestRegressor(n_jobs = -1)\n",
    "\n",
    "# Definition and fiting Boruta algorithm\n",
    "#boruta = BorutaPy(rf, n_estimators='auto', verbose=2, random_state=42).fit(X_train_n, y_train_n)"
   ]
  },
  {
   "cell_type": "code",
   "execution_count": null,
   "id": "6832f5f2",
   "metadata": {},
   "outputs": [],
   "source": [
    "#cols_selected = boruta.support_.tolist()\n",
    "\n",
    "# Best features\n",
    "#X_train_fs = X_train.drop(['date', 'sales'], axis = 1)\n",
    "#cols_selected_boruta = X_train_fs.iloc[:, cols_selected].columns.to_list()\n",
    "\n",
    "# Features not selected\n",
    "#cols_not_selected_boruta = list(np.setdiff1d(X_train_fs.columns, cols_selected_boruta))"
   ]
  },
  {
   "cell_type": "code",
   "execution_count": null,
   "id": "1ef78eed",
   "metadata": {},
   "outputs": [],
   "source": [
    "#cols_selected_boruta"
   ]
  },
  {
   "cell_type": "code",
   "execution_count": null,
   "id": "79b9d877",
   "metadata": {},
   "outputs": [],
   "source": [
    "#cols_not_selected_boruta"
   ]
  },
  {
   "cell_type": "markdown",
   "id": "6c671528",
   "metadata": {},
   "source": [
    "### 6.2.1 Manual Selection"
   ]
  },
  {
   "cell_type": "code",
   "execution_count": null,
   "id": "ed8294e8",
   "metadata": {},
   "outputs": [],
   "source": [
    "# Saving boruta results plus adding to boruta selection the columns ['month_sin', 'week_of_year_sin'] to complement the cossine counterparts that was included.\n",
    "cols_selected_boruta = [\n",
    "     'store',\n",
    "     'promo',\n",
    "     'store_type',\n",
    "     'assortment',\n",
    "     'competition_distance',\n",
    "     'competition_open_since_month',\n",
    "     'competition_open_since_year',\n",
    "     'promo2',\n",
    "     'promo2_since_week',\n",
    "     'promo2_since_year',\n",
    "     'competition_time_month',\n",
    "     'promo_time_week',\n",
    "     'month_cos',\n",
    "     'month_sin',\n",
    "     'day_sin',\n",
    "     'day_cos',\n",
    "     'week_of_year_cos',\n",
    "     'week_of_year_sin',\n",
    "     'day_of_week_sin',\n",
    "     'day_of_week_cos']\n",
    "\n",
    "# Keeping track of the columns that Boruta algorithm don't choose.\n",
    "cols_not_selected_boruta = [\n",
    "     'is_promo',\n",
    "     'month_sin',\n",
    "     'school_holiday',\n",
    "     'state_holiday_christmas',\n",
    "     'state_holiday_easter_holiday',\n",
    "     'state_holiday_public_holiday',\n",
    "     'state_holiday_regular_day',\n",
    "     'week_of_year_sin', \n",
    "     'year']\n",
    "\n",
    "# We will need to use this columns later\n",
    "cols_to_add = ['date', 'sales']\n",
    "\n",
    "cols_selected_boruta_full = cols_selected_boruta.copy()\n",
    "cols_selected_boruta_full.extend(cols_to_add)"
   ]
  },
  {
   "cell_type": "markdown",
   "id": "4d492e99",
   "metadata": {},
   "source": [
    "# 7.0 Machine Learning Modeling"
   ]
  },
  {
   "cell_type": "code",
   "execution_count": null,
   "id": "88c1e9c9",
   "metadata": {},
   "outputs": [],
   "source": [
    "# Selecting the relevant columns suggested by Boruta on the train/test splits. \n",
    "x_train = X_train[cols_selected_boruta]\n",
    "x_test = X_test[cols_selected_boruta]"
   ]
  },
  {
   "cell_type": "markdown",
   "id": "62bdb578",
   "metadata": {},
   "source": [
    "## 7.1 Linear Models (Single training)"
   ]
  },
  {
   "cell_type": "markdown",
   "id": "e4a51c7f",
   "metadata": {},
   "source": [
    "### 7.1.1 Average Model"
   ]
  },
  {
   "cell_type": "code",
   "execution_count": null,
   "id": "94a25233",
   "metadata": {},
   "outputs": [
    {
     "data": {
      "text/html": [
       "<div>\n",
       "<style scoped>\n",
       "    .dataframe tbody tr th:only-of-type {\n",
       "        vertical-align: middle;\n",
       "    }\n",
       "\n",
       "    .dataframe tbody tr th {\n",
       "        vertical-align: top;\n",
       "    }\n",
       "\n",
       "    .dataframe thead th {\n",
       "        text-align: right;\n",
       "    }\n",
       "</style>\n",
       "<table border=\"1\" class=\"dataframe\">\n",
       "  <thead>\n",
       "    <tr style=\"text-align: right;\">\n",
       "      <th></th>\n",
       "      <th>Model Name</th>\n",
       "      <th>MAE</th>\n",
       "      <th>MAPE</th>\n",
       "      <th>RMSE</th>\n",
       "    </tr>\n",
       "  </thead>\n",
       "  <tbody>\n",
       "    <tr>\n",
       "      <th>0</th>\n",
       "      <td>Average Model</td>\n",
       "      <td>1354.800353</td>\n",
       "      <td>0.455051</td>\n",
       "      <td>36.807613</td>\n",
       "    </tr>\n",
       "  </tbody>\n",
       "</table>\n",
       "</div>"
      ],
      "text/plain": [
       "      Model Name          MAE      MAPE       RMSE\n",
       "0  Average Model  1354.800353  0.455051  36.807613"
      ]
     },
     "metadata": {},
     "output_type": "display_data"
    }
   ],
   "source": [
    "aux1 = x_test.copy()\n",
    "aux1['sales'] = y_test.copy()\n",
    "\n",
    "# Predictions\n",
    "aux2 = aux1[['store', 'sales']].groupby('store').mean().reset_index().rename(columns={'sales': 'predictions'})\n",
    "aux1 = pd.merge(aux1, aux2, how = 'left', on = 'store')\n",
    "yhat_baseline = aux1['predictions']\n",
    "\n",
    "# Performance\n",
    "baseline_results = ml_error('Average Model', np.expm1(y_test), np.expm1(yhat_baseline))\n",
    "baseline_results\n"
   ]
  },
  {
   "cell_type": "markdown",
   "id": "0887bfaa",
   "metadata": {},
   "source": [
    "### 7.1.2 Linear Regression Model"
   ]
  },
  {
   "cell_type": "code",
   "execution_count": null,
   "id": "4b55ad0f",
   "metadata": {},
   "outputs": [
    {
     "data": {
      "text/html": [
       "<div>\n",
       "<style scoped>\n",
       "    .dataframe tbody tr th:only-of-type {\n",
       "        vertical-align: middle;\n",
       "    }\n",
       "\n",
       "    .dataframe tbody tr th {\n",
       "        vertical-align: top;\n",
       "    }\n",
       "\n",
       "    .dataframe thead th {\n",
       "        text-align: right;\n",
       "    }\n",
       "</style>\n",
       "<table border=\"1\" class=\"dataframe\">\n",
       "  <thead>\n",
       "    <tr style=\"text-align: right;\">\n",
       "      <th></th>\n",
       "      <th>Model Name</th>\n",
       "      <th>MAE</th>\n",
       "      <th>MAPE</th>\n",
       "      <th>RMSE</th>\n",
       "    </tr>\n",
       "  </thead>\n",
       "  <tbody>\n",
       "    <tr>\n",
       "      <th>0</th>\n",
       "      <td>Linear Regression</td>\n",
       "      <td>1867.089774</td>\n",
       "      <td>0.292694</td>\n",
       "      <td>43.209834</td>\n",
       "    </tr>\n",
       "  </tbody>\n",
       "</table>\n",
       "</div>"
      ],
      "text/plain": [
       "          Model Name          MAE      MAPE       RMSE\n",
       "0  Linear Regression  1867.089774  0.292694  43.209834"
      ]
     },
     "metadata": {},
     "output_type": "display_data"
    }
   ],
   "source": [
    "# Model\n",
    "lr = LinearRegression()\n",
    "\n",
    "# Fit / Predict\n",
    "yhat_lr = lr.fit(x_train, y_train).predict(x_test)\n",
    "\n",
    "# Performance\n",
    "lr_result = ml_error('Linear Regression', np.expm1(y_test), np.expm1(yhat_lr))\n",
    "lr_result"
   ]
  },
  {
   "cell_type": "markdown",
   "id": "69389d26",
   "metadata": {},
   "source": [
    "### 7.1.3 Linear Regression Regularized (Lasso)"
   ]
  },
  {
   "cell_type": "code",
   "execution_count": null,
   "id": "1cce0d96",
   "metadata": {},
   "outputs": [
    {
     "data": {
      "text/html": [
       "<div>\n",
       "<style scoped>\n",
       "    .dataframe tbody tr th:only-of-type {\n",
       "        vertical-align: middle;\n",
       "    }\n",
       "\n",
       "    .dataframe tbody tr th {\n",
       "        vertical-align: top;\n",
       "    }\n",
       "\n",
       "    .dataframe thead th {\n",
       "        text-align: right;\n",
       "    }\n",
       "</style>\n",
       "<table border=\"1\" class=\"dataframe\">\n",
       "  <thead>\n",
       "    <tr style=\"text-align: right;\">\n",
       "      <th></th>\n",
       "      <th>Model Name</th>\n",
       "      <th>MAE</th>\n",
       "      <th>MAPE</th>\n",
       "      <th>RMSE</th>\n",
       "    </tr>\n",
       "  </thead>\n",
       "  <tbody>\n",
       "    <tr>\n",
       "      <th>0</th>\n",
       "      <td>Linear Regression - Lasso</td>\n",
       "      <td>1891.70488</td>\n",
       "      <td>0.289106</td>\n",
       "      <td>43.493734</td>\n",
       "    </tr>\n",
       "  </tbody>\n",
       "</table>\n",
       "</div>"
      ],
      "text/plain": [
       "                  Model Name         MAE      MAPE       RMSE\n",
       "0  Linear Regression - Lasso  1891.70488  0.289106  43.493734"
      ]
     },
     "metadata": {},
     "output_type": "display_data"
    }
   ],
   "source": [
    "# Model\n",
    "lr_lasso = Lasso(alpha=0.01)\n",
    "\n",
    "# Fit / Predict\n",
    "yhat_lr_lasso = lr_lasso.fit(x_train, y_train).predict(x_test)\n",
    "\n",
    "# Performance\n",
    "lasso_result = ml_error('Linear Regression - Lasso', np.expm1(y_test), np.expm1(yhat_lr_lasso))\n",
    "lasso_result"
   ]
  },
  {
   "cell_type": "markdown",
   "id": "1a18bf98",
   "metadata": {},
   "source": [
    "### 7.1.4 Results"
   ]
  },
  {
   "cell_type": "markdown",
   "id": "412389bb",
   "metadata": {},
   "source": [
    "Single results using only one split, train and test. This results are for performance comparition only and don't represent the true performance of the models. "
   ]
  },
  {
   "cell_type": "code",
   "execution_count": null,
   "id": "e2d37679",
   "metadata": {},
   "outputs": [
    {
     "data": {
      "text/html": [
       "<div>\n",
       "<style scoped>\n",
       "    .dataframe tbody tr th:only-of-type {\n",
       "        vertical-align: middle;\n",
       "    }\n",
       "\n",
       "    .dataframe tbody tr th {\n",
       "        vertical-align: top;\n",
       "    }\n",
       "\n",
       "    .dataframe thead th {\n",
       "        text-align: right;\n",
       "    }\n",
       "</style>\n",
       "<table border=\"1\" class=\"dataframe\">\n",
       "  <thead>\n",
       "    <tr style=\"text-align: right;\">\n",
       "      <th></th>\n",
       "      <th>MAE</th>\n",
       "      <th>MAPE</th>\n",
       "      <th>RMSE</th>\n",
       "    </tr>\n",
       "    <tr>\n",
       "      <th>Model Name</th>\n",
       "      <th></th>\n",
       "      <th></th>\n",
       "      <th></th>\n",
       "    </tr>\n",
       "  </thead>\n",
       "  <tbody>\n",
       "    <tr>\n",
       "      <th>Average Model</th>\n",
       "      <td>1354.800353</td>\n",
       "      <td>0.455051</td>\n",
       "      <td>36.807613</td>\n",
       "    </tr>\n",
       "    <tr>\n",
       "      <th>Linear Regression</th>\n",
       "      <td>1867.089774</td>\n",
       "      <td>0.292694</td>\n",
       "      <td>43.209834</td>\n",
       "    </tr>\n",
       "    <tr>\n",
       "      <th>Linear Regression - Lasso</th>\n",
       "      <td>1891.704880</td>\n",
       "      <td>0.289106</td>\n",
       "      <td>43.493734</td>\n",
       "    </tr>\n",
       "  </tbody>\n",
       "</table>\n",
       "</div>"
      ],
      "text/plain": [
       "                                   MAE      MAPE       RMSE\n",
       "Model Name                                                 \n",
       "Average Model              1354.800353  0.455051  36.807613\n",
       "Linear Regression          1867.089774  0.292694  43.209834\n",
       "Linear Regression - Lasso  1891.704880  0.289106  43.493734"
      ]
     },
     "metadata": {},
     "output_type": "display_data"
    }
   ],
   "source": [
    "linear_models = pd.concat([baseline_results, lr_result, lasso_result]).set_index('Model Name').sort_values(by='RMSE')\n",
    "linear_models"
   ]
  },
  {
   "cell_type": "markdown",
   "id": "2dde23f3",
   "metadata": {},
   "source": [
    "## 7.2 Non Linear Models (Single training)"
   ]
  },
  {
   "cell_type": "markdown",
   "id": "0af52aca",
   "metadata": {},
   "source": [
    "### 7.2.1 Random Forest Regressor"
   ]
  },
  {
   "cell_type": "code",
   "execution_count": null,
   "id": "18d2429d",
   "metadata": {},
   "outputs": [],
   "source": [
    "# #Model definition\n",
    "# rf = RandomForestRegressor(n_estimators=100,\n",
    "#                            max_depth=20,\n",
    "#                            n_jobs=-1,\n",
    "#                            random_state=42)\n",
    "\n",
    "# # Fit / Predict\n",
    "# yhat_rf = rf.fit(x_train, y_train).predict(x_test)\n",
    "\n",
    "# # Performance\n",
    "# rf_results = ml_error('Random Forest', np.expm1(y_test), np.expm1(yhat_rf))"
   ]
  },
  {
   "cell_type": "code",
   "execution_count": null,
   "id": "8566c504",
   "metadata": {},
   "outputs": [],
   "source": [
    "# rf_results"
   ]
  },
  {
   "cell_type": "markdown",
   "id": "cfe67d91",
   "metadata": {},
   "source": [
    "### 7.2.2 XGBoost Regressor"
   ]
  },
  {
   "cell_type": "code",
   "execution_count": null,
   "id": "955d78d8",
   "metadata": {},
   "outputs": [],
   "source": [
    "# Model definition\n",
    "# xgb = XGBRegressor(objective='reg:squarederror',\n",
    "#                     n_estimators=100,\n",
    "#                     eta=0.1,\n",
    "#                     max_depth=10,\n",
    "#                     subsample=0.7,\n",
    "#                     colsample_bytree=0.9)\n",
    "\n",
    "# # Fit / Predict\n",
    "# yhat_xgb = xgb.fit(x_train, y_train).predict(x_test)\n",
    "\n",
    "# # Performance\n",
    "# xgb_results = ml_error('Random Forest', np.expm1(y_test), np.expm1(yhat_xgb))"
   ]
  },
  {
   "cell_type": "markdown",
   "id": "eca37e58",
   "metadata": {},
   "source": [
    "### 7.2.3 Results"
   ]
  },
  {
   "cell_type": "markdown",
   "id": "f71e8b49",
   "metadata": {},
   "source": [
    "Single results using only one split, train and test. This results are for performance comparition only and don't represent the true performance of the models. "
   ]
  },
  {
   "cell_type": "code",
   "execution_count": null,
   "id": "0af38022",
   "metadata": {},
   "outputs": [],
   "source": [
    "# nonlinear_models = pd.concat([rf_results, xgb_results]).set_index('Model Name').sort_values(by='RMSE')\n",
    "# nonlinear_models"
   ]
  },
  {
   "cell_type": "markdown",
   "id": "817015ab",
   "metadata": {},
   "source": [
    "## 7.3 Cross Validation"
   ]
  },
  {
   "cell_type": "markdown",
   "id": "8e131452",
   "metadata": {},
   "source": [
    "In the sections above we trained the models with a single train / test split in the dataframe, but we need to change it to get more robust results. So we'll use cross validation to make multiple train / test splits. Notice that we'll spliting with respect to the dates that's in the dataframe. So as mentioned before, we are using a moving time window of 6 weeks prior the last recorded date. To do this we're implementig the cross_val function."
   ]
  },
  {
   "cell_type": "code",
   "execution_count": null,
   "id": "cf261444",
   "metadata": {},
   "outputs": [],
   "source": [
    "# Selecting the dataframe necessary to the training\n",
    "x_training = X_train[cols_selected_boruta_full]"
   ]
  },
  {
   "cell_type": "code",
   "execution_count": null,
   "id": "17103b86",
   "metadata": {},
   "outputs": [],
   "source": [
    "# Defining all models tha we'll be using\n",
    "# lr = LinearRegression()\n",
    "\n",
    "# lasso = Lasso(alpha=0.01)\n",
    "\n",
    "# rf = RandomForestRegressor(n_estimators=100,\n",
    "#                            max_depth=20,\n",
    "#                            n_jobs=-1,\n",
    "#                            random_state=42)\n",
    "\n",
    "# xgb = XGBRegressor(objective='reg:squarederror',\n",
    "#                     n_estimators=100,\n",
    "#                     eta=0.1,\n",
    "#                     max_depth=10,\n",
    "#                     subsample=0.7,\n",
    "#                     colsample_bytree=0.9)\n",
    "\n",
    "# Creating model list\n",
    "# model_list = [lr, lasso, rf, xgb]\n",
    "\n",
    "# Setting list comprehension and concat the results in a pandas dataframe format.\n",
    "# cross_val_list = [cross_val(m, kfold=5, x_training=x_training) for m in model_list] \n",
    "# cross_val_df = pd.concat(cross_val_list, axis=0, ignore_index=True).sort_values(by='RMSE_CV')"
   ]
  },
  {
   "cell_type": "code",
   "execution_count": null,
   "id": "d81d239b",
   "metadata": {},
   "outputs": [],
   "source": [
    "# cross_val_df"
   ]
  },
  {
   "cell_type": "code",
   "execution_count": null,
   "id": "c7761474",
   "metadata": {},
   "outputs": [],
   "source": [
    "# rf_teste = RandomForestRegressor(n_estimators=200,\n",
    "#                            max_depth=20,\n",
    "#                            n_jobs=-1,\n",
    "#                            min_samples_leaf=500)\n",
    "\n",
    "# rf_teste_results = cross_val(rf_teste, kfold=5, x_training=x_training)\n",
    "# rf_teste_results"
   ]
  },
  {
   "cell_type": "markdown",
   "id": "ad612c39",
   "metadata": {},
   "source": [
    "# 8.0 Fine Tuning"
   ]
  },
  {
   "cell_type": "markdown",
   "id": "3adb61a4",
   "metadata": {},
   "source": [
    "We'll be implementing the Bayesian Search for finding the best parameters for both models."
   ]
  },
  {
   "cell_type": "code",
   "execution_count": null,
   "id": "f168f227",
   "metadata": {},
   "outputs": [],
   "source": [
    "# Adjusting dataset for the fine tuning processes\n",
    "\n",
    "x_train_ft = x_training.drop(columns=['sales'])\n",
    "dates = x_train_ft['date'].reset_index(drop=True)"
   ]
  },
  {
   "cell_type": "markdown",
   "id": "e5f0b63e",
   "metadata": {},
   "source": [
    "## 8.1 Bayes Search"
   ]
  },
  {
   "cell_type": "markdown",
   "id": "dd9a2f89",
   "metadata": {},
   "source": [
    "### Bayes search for XGB Regressor:"
   ]
  },
  {
   "cell_type": "code",
   "execution_count": null,
   "id": "3ffc19d1",
   "metadata": {},
   "outputs": [],
   "source": [
    "# xgb_search = {\n",
    "#     'eta': space.Real(0.3, 1, prior='uniform'),\n",
    "#     'learning_rate': space.Real(1e-3, 0.3, prior='log-uniform'),\n",
    "#     'max_depth': space.Integer(6, 30),\n",
    "#     'subsample': space.Real(0.1, 0.7, prior='uniform'),\n",
    "#     'colsample_bytree': space.Real(0.3, 1, prior='uniform'),\n",
    "#     'min_child_weight': space.Integer(1, 20),\n",
    "#     'reg_lambda': space.Real(1e-3, 10.0, 'log-uniform'),\n",
    "#     'reg_alpha': space.Real(1e-3, 10.0, 'log-uniform')\n",
    "# }\n",
    "\n",
    "# Setting a custom cross validation generator\n",
    "# cv_time_splitter = TimeSeriesWindowSplit(n_splits=5, window_weeks=6)"
   ]
  },
  {
   "cell_type": "code",
   "execution_count": null,
   "id": "5623469c",
   "metadata": {},
   "outputs": [],
   "source": [
    "# xgb_ES = XGBWithEarlyStopping(objective='reg:squarederror',\n",
    "#                               n_estimators=1000,\n",
    "#                               tree_method='hist',\n",
    "#                               n_jobs=1)\n",
    "\n",
    "# # Bayes search fit for XGB Regressor (code is commented to avoid long runtime, best params already calculated)\n",
    "# bayes_opt = BayesSearchCV(estimator=xgb_ES,\n",
    "#                           search_spaces=xgb_search,\n",
    "#                           cv=cv_time_splitter,\n",
    "#                           n_iter=10,\n",
    "#                           n_jobs=1,\n",
    "#                           verbose=2)\n",
    "\n",
    "# bayes_opt.fit(x_train_ft.drop(columns=['date']), y_train, groups=dates)"
   ]
  },
  {
   "cell_type": "code",
   "execution_count": null,
   "id": "40af6839",
   "metadata": {},
   "outputs": [],
   "source": [
    "# Bayesian search best params for XGB Regressor\n",
    "# xgb_best_params = bayes_opt.best_params_\n",
    "# xgb_best_params"
   ]
  },
  {
   "cell_type": "code",
   "execution_count": null,
   "id": "d06df85b",
   "metadata": {},
   "outputs": [],
   "source": [
    "# Saving best parameters for future usage \n",
    "# best_params_xgb = [('colsample_bytree', 0.6093494625158796),\n",
    "#              ('eta', 0.5753399462944516),\n",
    "#              ('learning_rate', 0.0775566195582778),\n",
    "#              ('max_depth', 9),\n",
    "#              ('min_child_weight', 13),\n",
    "#              ('reg_alpha', 4.943144879193704),\n",
    "#              ('reg_lambda', 0.37164138852064893),\n",
    "#              ('subsample', 0.5559779396013314)]\n",
    "\n",
    "# xgb_params_dict = dict(best_params_xgb)"
   ]
  },
  {
   "cell_type": "markdown",
   "id": "9e86fc36",
   "metadata": {},
   "source": [
    "### Bayes search for Random Forest Regressor:"
   ]
  },
  {
   "cell_type": "code",
   "execution_count": null,
   "id": "d102356c",
   "metadata": {},
   "outputs": [],
   "source": []
  },
  {
   "cell_type": "markdown",
   "id": "4601323c",
   "metadata": {},
   "source": [
    "# 8.2 Final Models (tuned)"
   ]
  },
  {
   "cell_type": "markdown",
   "id": "27d94044",
   "metadata": {},
   "source": [
    "## Final XGB Regressor model"
   ]
  },
  {
   "cell_type": "code",
   "execution_count": null,
   "id": "c046b917",
   "metadata": {},
   "outputs": [],
   "source": [
    "# # Spliting the train dataset for validation\n",
    "# x_tr, x_val, y_tr, y_val = train_test_split(x_training, y_train, test_size= 0.2, shuffle=False) \n",
    "\n",
    "# #Model definition\n",
    "# final_xgb = XGBRegressor(**xgb_params_dict, \n",
    "#                              objective='reg:squarederror',\n",
    "#                              n_estimators=2000,\n",
    "#                              tree_method='hist',\n",
    "#                              n_jobs=1)\n",
    "\n",
    "# # Fit / Predict\n",
    "# xgb_tuned = final_xgb.fit(x_tr.drop(columns=['sales', 'date']), y_tr,    \n",
    "#                         eval_set=[(x_val.drop(columns=['sales', 'date']), y_val)],  \n",
    "#                         eval_metric=\"rmse\",         \n",
    "#                         early_stopping_rounds=100,  \n",
    "#                         verbose=False)\n",
    "\n",
    "# yhat_xgb = xgb_tuned.predict(x_test)\n",
    "\n",
    "# # Performance\n",
    "# tuned_xgb_results = ml_error('XGB Regressor', np.expm1(y_test), np.expm1(yhat_xgb))\n",
    "# tuned_xgb_results"
   ]
  },
  {
   "cell_type": "code",
   "execution_count": null,
   "id": "05b4230a",
   "metadata": {},
   "outputs": [],
   "source": [
    "# First run results: \n",
    "# - Optimized number of estimators: 1979 \n",
    "# - Optimized number of trees: 1980\n",
    "\n",
    "# best_estimators = xgb_tuned.best_iteration\n",
    "# best_ntrees = xgb_tuned.best_ntree_limit\n",
    "\n",
    "# print(f\"Optimized number of estimators: {best_estimators} \\nOptimized number of trees: {best_ntrees}\")"
   ]
  },
  {
   "cell_type": "code",
   "execution_count": null,
   "id": "6966c8db",
   "metadata": {},
   "outputs": [],
   "source": [
    "# Saving final model\n",
    "# xgb_tuned.save_model(\"xgb_rossman.json\")"
   ]
  },
  {
   "cell_type": "code",
   "execution_count": null,
   "id": "b76388df",
   "metadata": {},
   "outputs": [
    {
     "data": {
      "text/html": [
       "<div>\n",
       "<style scoped>\n",
       "    .dataframe tbody tr th:only-of-type {\n",
       "        vertical-align: middle;\n",
       "    }\n",
       "\n",
       "    .dataframe tbody tr th {\n",
       "        vertical-align: top;\n",
       "    }\n",
       "\n",
       "    .dataframe thead th {\n",
       "        text-align: right;\n",
       "    }\n",
       "</style>\n",
       "<table border=\"1\" class=\"dataframe\">\n",
       "  <thead>\n",
       "    <tr style=\"text-align: right;\">\n",
       "      <th></th>\n",
       "      <th>Model Name</th>\n",
       "      <th>MAE</th>\n",
       "      <th>MAPE</th>\n",
       "      <th>RMSE</th>\n",
       "    </tr>\n",
       "  </thead>\n",
       "  <tbody>\n",
       "    <tr>\n",
       "      <th>0</th>\n",
       "      <td>XGB Regressor</td>\n",
       "      <td>645.352428</td>\n",
       "      <td>0.093618</td>\n",
       "      <td>25.403788</td>\n",
       "    </tr>\n",
       "  </tbody>\n",
       "</table>\n",
       "</div>"
      ],
      "text/plain": [
       "      Model Name         MAE      MAPE       RMSE\n",
       "0  XGB Regressor  645.352428  0.093618  25.403788"
      ]
     },
     "metadata": {},
     "output_type": "display_data"
    }
   ],
   "source": [
    "# Loading final model \n",
    "xgb_load = XGBRegressor()\n",
    "xgb_load.load_model(\"xgb_rossman.json\")\n",
    "\n",
    "yhat_xgb = xgb_load.predict(x_test)\n",
    "\n",
    "# Performance\n",
    "xgb_perf = ml_error('XGB Regressor', np.expm1(y_test), np.expm1(yhat_xgb))\n",
    "xgb_perf"
   ]
  },
  {
   "cell_type": "code",
   "execution_count": null,
   "id": "3ddd7140",
   "metadata": {},
   "outputs": [
    {
     "data": {
      "text/plain": [
       "0.003994578592460317"
      ]
     },
     "metadata": {},
     "output_type": "display_data"
    }
   ],
   "source": [
    "mpe = mean_percentage_error(np.expm1(y_test), np.expm1(yhat_xgb))\n",
    "mpe"
   ]
  },
  {
   "cell_type": "markdown",
   "id": "fb544a5f",
   "metadata": {},
   "source": [
    "## Final Random Forest Regressor model"
   ]
  },
  {
   "cell_type": "code",
   "execution_count": null,
   "id": "bcaea509",
   "metadata": {},
   "outputs": [],
   "source": [
    "# rf_tuned = RandomForestRegressor(n_estimators=365,\n",
    "#                                  max_depth= 44,\n",
    "#                                  min_samples_leaf = 171,\n",
    "#                                  n_jobs=-1)\n",
    "\n",
    "# yhat_rf_tuned = rf_tuned.fit(X_train_ft.drop(columns=['date']), y_train_ft).predict(X_val.drop(columns=['date']))\n",
    "\n",
    "# # Performance\n",
    "# rf_tuned_result = ml_error(\"Random Forest Tuned\", np.expm1(y_val), np.expm1(yhat_rf_tuned))\n",
    "# rf_tuned_result"
   ]
  },
  {
   "cell_type": "markdown",
   "id": "6d981874",
   "metadata": {},
   "source": [
    "# 9.0 Error Interpretation"
   ]
  },
  {
   "cell_type": "code",
   "execution_count": null,
   "id": "184f60b5",
   "metadata": {},
   "outputs": [],
   "source": [
    "df9 = X_test[cols_selected_boruta_full].copy()\n",
    "\n",
    "# Rescaling ['sales'] column\n",
    "df9['sales'] = np.expm1(df9['sales'])\n",
    "df9['predictions'] = np.expm1(yhat_xgb)"
   ]
  },
  {
   "cell_type": "markdown",
   "id": "9e093c65",
   "metadata": {},
   "source": [
    "## 9.1. Businesse Performance"
   ]
  },
  {
   "cell_type": "code",
   "execution_count": null,
   "id": "d577da9a",
   "metadata": {},
   "outputs": [],
   "source": [
    "# Sum of predictions\n",
    "df9_sum = df9[['store', 'predictions']].groupby('store').sum().reset_index()\n",
    "\n",
    "# MAE and MAPE\n",
    "# df9_aux1 = df9['store', 'sales', 'predictions'].groupby('store').apply( lambda x: mean_absolute_error())\n"
   ]
  },
  {
   "cell_type": "markdown",
   "id": "7a25df5b",
   "metadata": {},
   "source": [
    "## 9.2. Total Performance"
   ]
  },
  {
   "cell_type": "code",
   "execution_count": null,
   "id": "1f1f3029",
   "metadata": {},
   "outputs": [],
   "source": []
  },
  {
   "cell_type": "markdown",
   "id": "a534a1d7",
   "metadata": {},
   "source": [
    "## 9.3. Machine Learning Performance"
   ]
  },
  {
   "cell_type": "code",
   "execution_count": null,
   "id": "a73bdce9",
   "metadata": {},
   "outputs": [],
   "source": []
  }
 ],
 "metadata": {
  "kernelspec": {
   "display_name": "Python 3 (ipykernel)",
   "language": "python",
   "name": "python3"
  }
 },
 "nbformat": 4,
 "nbformat_minor": 5
}
